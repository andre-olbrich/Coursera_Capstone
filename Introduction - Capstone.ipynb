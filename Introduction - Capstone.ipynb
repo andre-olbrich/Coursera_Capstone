{
 "cells": [
  {
   "cell_type": "markdown",
   "metadata": {},
   "source": [
    "## Introduction\n",
    "\n",
    "New York has more than 26.000 retaurants. There is a high demand but also a huge competition. In which kind of restaurant to invest can be a tough decision. In this analysis I will show as a case study for a specific part of New York, the Bronx, the best kind of restaurant to invest.\n",
    "\n",
    "## Business Problem\n",
    "\n",
    "Imagine you are a bank and you have to decide where to invest the money. You are responsible for restaurant businesses who seek for a loan from your bank. You have to decide how risky the investment is and if the conecpt of the customer is convincing. One big factor to decide if it is worth to invest in a restaurant is to look where the restaurant will be located. Is  it a promising place? Will there be a lot of competition? Which kind of restaurant (chinese, american, spanish etc.) is already enough represented in the market? Where could be a niche for a new restaurant?\n",
    "\n",
    "## Target Audience\n",
    "\n",
    "The audience of this report consists in investors and lenders who are specialized in the restaurant business. The analysis can help them to determine the factor location if they have to decide if a concept of a potential borrower is convincing or not."
   ]
  },
  {
   "cell_type": "code",
   "execution_count": null,
   "metadata": {},
   "outputs": [],
   "source": []
  }
 ],
 "metadata": {
  "kernelspec": {
   "display_name": "Python",
   "language": "python",
   "name": "conda-env-python-py"
  },
  "language_info": {
   "codemirror_mode": {
    "name": "ipython",
    "version": 3
   },
   "file_extension": ".py",
   "mimetype": "text/x-python",
   "name": "python",
   "nbconvert_exporter": "python",
   "pygments_lexer": "ipython3",
   "version": "3.6.10"
  }
 },
 "nbformat": 4,
 "nbformat_minor": 4
}
